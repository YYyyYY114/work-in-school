{
 "cells": [
  {
   "cell_type": "markdown",
   "id": "4169cc2c",
   "metadata": {},
   "source": [
    "# 2110010114 李佳琪 第四次作业"
   ]
  },
  {
   "cell_type": "markdown",
   "id": "78d9ca24",
   "metadata": {},
   "source": [
    "1. 查找数据集中的缺失值；\n",
    "2. 用该特征的特征均值进行缺失值填补；\n",
    "3. 使用三倍标准差法处理每个特征中的异常值；\n",
    "4. 计算信用数据集中四个特征‘总贷款量’,‘贷款利率’,‘总还款量’和‘上一次还款量’在两种信用状态(loan_status)下的均值、方差、中位数；\n",
    "5. 计算违约状态(loan_status)两种状态的样本比例，并采用随机上采样或随机下采样平衡数据集；\n",
    "6. 计算平衡之后数据集中四个特征‘总贷款量’,‘贷款利率’,‘总还款量’和‘上一次还款量’在两种loan_status下的均值、方差、中位数。"
   ]
  },
  {
   "cell_type": "code",
   "execution_count": 16,
   "id": "5e452934",
   "metadata": {},
   "outputs": [],
   "source": [
    "import pandas as pd  \n",
    "import numpy as np  \n",
    "from imblearn.over_sampling import RandomOverSampler\n",
    "from imblearn.under_sampling import RandomUnderSampler"
   ]
  },
  {
   "cell_type": "code",
   "execution_count": 17,
   "id": "32f223d0",
   "metadata": {},
   "outputs": [
    {
     "name": "stdout",
     "output_type": "stream",
     "text": [
      "总贷款量                1\n",
      "贷款利率                2\n",
      "总还款量                2\n",
      "上一次还款量              1\n",
      "违约状态（0-违约，1-未违约）    0\n",
      "dtype: int64\n"
     ]
    }
   ],
   "source": [
    "# 读取Excel文件  \n",
    "df = pd.read_excel('D:\\\\大三上\\\\数据挖掘与商务智能\\\\第四次实验课20231030\\信用数据集.xlsx')     \n",
    "\n",
    "# 查找缺失值\n",
    "missing_values = df.isnull().sum()\n",
    "print (missing_values)"
   ]
  },
  {
   "cell_type": "code",
   "execution_count": 18,
   "id": "a53fa5e7",
   "metadata": {},
   "outputs": [
    {
     "name": "stdout",
     "output_type": "stream",
     "text": [
      "总贷款量                13424.665179\n",
      "贷款利率                    0.134941\n",
      "总还款量                10069.240602\n",
      "上一次还款量               2310.042812\n",
      "违约状态（0-违约，1-未违约）        0.777778\n",
      "dtype: float64\n"
     ]
    }
   ],
   "source": [
    "# 计算特征均值\n",
    "mean_values = df.mean()\n",
    "print (mean_values)"
   ]
  },
  {
   "cell_type": "code",
   "execution_count": 19,
   "id": "07b8096c",
   "metadata": {
    "scrolled": true
   },
   "outputs": [
    {
     "name": "stdout",
     "output_type": "stream",
     "text": [
      "        总贷款量    贷款利率          总还款量       上一次还款量  违约状态（0-违约，1-未违约）\n",
      "0     2500.0  0.1527   1008.710000   119.660000               0.0\n",
      "1     5600.0  0.2128    646.020000   152.390000               0.0\n",
      "2     5375.0  0.1269   1476.190000   121.450000               0.0\n",
      "3     9000.0  0.1349   2270.700000   305.380000               0.0\n",
      "4    10000.0  0.1065   7471.990000   325.740000               0.0\n",
      "..       ...     ...           ...          ...               ...\n",
      "220   8000.0  0.0579   6297.940000  1110.770000               1.0\n",
      "221  15000.0  0.1905  19729.506580  2680.340000               1.0\n",
      "222   8125.0  0.1249   3521.860000   271.780000               1.0\n",
      "223  30000.0  0.1849  10069.240602  2310.042812               1.0\n",
      "224  12000.0  0.1212  14373.353090   399.250000               1.0\n",
      "\n",
      "[225 rows x 5 columns]\n"
     ]
    }
   ],
   "source": [
    "# 填充缺失值\n",
    "df.fillna(mean_values, inplace=True)\n",
    "\n",
    "# 使用三倍标准差法处理异常值\n",
    "for column in df.columns:\n",
    "    mean = df[column].mean()\n",
    "    std = df[column].std()\n",
    "    threshold = 3 * std\n",
    "    df[column] = np.where((df[column] - mean).abs() > threshold, mean, df[column])\n",
    "print (df)"
   ]
  },
  {
   "cell_type": "code",
   "execution_count": 20,
   "id": "4bbd14f4",
   "metadata": {},
   "outputs": [],
   "source": [
    "# 选择感兴趣的特征\n",
    "features = ['总贷款量', '贷款利率', '总还款量', '上一次还款量']"
   ]
  },
  {
   "cell_type": "code",
   "execution_count": 21,
   "id": "5667339d",
   "metadata": {},
   "outputs": [
    {
     "name": "stdout",
     "output_type": "stream",
     "text": [
      "违约状态的统计指标：\n",
      "                总贷款量      贷款利率          总还款量         上一次还款量\n",
      "mean    1.215249e+04  0.138399  7.600689e+03     422.144200\n",
      "var     3.860259e+07  0.001244  2.792443e+07  379170.618706\n",
      "median  1.080000e+04  0.134900  6.642795e+03     322.210000\n",
      "未违约状态的统计指标：\n",
      "                总贷款量      贷款利率          总还款量        上一次还款量\n",
      "mean    1.378814e+04  0.133953  1.001363e+04  1.825708e+03\n",
      "var     6.278455e+07  0.001748  4.572063e+07  9.826564e+06\n",
      "median  1.200000e+04  0.129900  8.314440e+03  4.981500e+02\n"
     ]
    }
   ],
   "source": [
    "# 计算违约时的统计指标\n",
    "status_0_stats = df[df['违约状态（0-违约，1-未违约）'] == 0][features].agg(['mean', 'var', 'median'])\n",
    "\n",
    "# 计算不违约时的统计指标\n",
    "status_1_stats = df[df['违约状态（0-违约，1-未违约）'] == 1][features].agg(['mean', 'var', 'median'])\n",
    "\n",
    "# 打印结果\n",
    "print(\"违约状态的统计指标：\")\n",
    "print(status_0_stats)\n",
    "print(\"未违约状态的统计指标：\")\n",
    "print(status_1_stats)\n"
   ]
  },
  {
   "cell_type": "code",
   "execution_count": 22,
   "id": "db23b727",
   "metadata": {},
   "outputs": [
    {
     "name": "stdout",
     "output_type": "stream",
     "text": [
      "原始数据集中违约状态的样本比例: 0.2222222222222222\n",
      "原始数据集中未违约状态的样本比例: 0.7777777777777778\n"
     ]
    }
   ],
   "source": [
    "# 计算违约状态为0或1的样本比例\n",
    "status_0_ratio = (df['违约状态（0-违约，1-未违约）'] == 0).sum() / len(df)\n",
    "status_1_ratio = (df['违约状态（0-违约，1-未违约）'] == 1).sum() / len(df)\n",
    "\n",
    "# 打印原始数据集中状态0和1的样本比例\n",
    "print(\"原始数据集中违约状态的样本比例:\", status_0_ratio)\n",
    "print(\"原始数据集中未违约状态的样本比例:\", status_1_ratio)"
   ]
  },
  {
   "cell_type": "code",
   "execution_count": 23,
   "id": "dbd644c4",
   "metadata": {},
   "outputs": [],
   "source": [
    "# 增加下采样比例，例如将比例设置为1.0（完全平衡）\n",
    "under_sampler = RandomUnderSampler(sampling_strategy=1.0)\n",
    "\n",
    "# 执行下采样\n",
    "X_resampled, y_resampled = under_sampler.fit_resample(df[features], df['违约状态（0-违约，1-未违约）'])\n",
    "\n",
    "# 创建平衡后的数据集DataFrame\n",
    "balanced_df = pd.DataFrame(X_resampled, columns=features)\n",
    "balanced_df['违约状态（0-违约，1-未违约）'] = y_resampled"
   ]
  },
  {
   "cell_type": "code",
   "execution_count": 24,
   "id": "2fc0403f",
   "metadata": {},
   "outputs": [
    {
     "name": "stdout",
     "output_type": "stream",
     "text": [
      "\n",
      "平衡后数据集中违约状态的统计指标：\n",
      "                总贷款量      贷款利率          总还款量         上一次还款量\n",
      "mean    1.215249e+04  0.138399  7.600689e+03     422.144200\n",
      "var     3.860259e+07  0.001244  2.792443e+07  379170.618706\n",
      "median  1.080000e+04  0.134900  6.642795e+03     322.210000\n",
      "\n",
      "平衡后数据集中不违约的统计指标：\n",
      "                总贷款量      贷款利率          总还款量        上一次还款量\n",
      "mean    1.259900e+04  0.136894  1.013660e+04  2.501734e+03\n",
      "var     6.238184e+07  0.001516  4.465599e+07  1.650743e+07\n",
      "median  1.000000e+04  0.124400  8.281740e+03  5.161100e+02\n"
     ]
    }
   ],
   "source": [
    "# 计算平衡后数据集中状态=0和1的均值、方差和中位数\n",
    "status_0_stats = balanced_df[balanced_df['违约状态（0-违约，1-未违约）'] == 0][features].agg(['mean', 'var', 'median'])\n",
    "status_1_stats = balanced_df[balanced_df['违约状态（0-违约，1-未违约）'] == 1][features].agg(['mean', 'var', 'median'])\n",
    "\n",
    "# 打印结果\n",
    "print(\"\\n平衡后数据集中违约状态的统计指标：\")\n",
    "print(status_0_stats)\n",
    "print(\"\\n平衡后数据集中不违约的统计指标：\")\n",
    "print(status_1_stats)"
   ]
  }
 ],
 "metadata": {
  "kernelspec": {
   "display_name": "Python 3 (ipykernel)",
   "language": "python",
   "name": "python3"
  },
  "language_info": {
   "codemirror_mode": {
    "name": "ipython",
    "version": 3
   },
   "file_extension": ".py",
   "mimetype": "text/x-python",
   "name": "python",
   "nbconvert_exporter": "python",
   "pygments_lexer": "ipython3",
   "version": "3.11.4"
  }
 },
 "nbformat": 4,
 "nbformat_minor": 5
}
