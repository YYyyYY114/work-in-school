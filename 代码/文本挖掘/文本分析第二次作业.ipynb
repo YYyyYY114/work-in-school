{
 "cells": [
  {
   "cell_type": "markdown",
   "id": "1336e09d",
   "metadata": {},
   "source": [
    "# 文本分析第二次作业"
   ]
  },
  {
   "cell_type": "markdown",
   "id": "2c0f6385",
   "metadata": {},
   "source": [
    "# #学生姓名：李佳琪     "
   ]
  },
  {
   "cell_type": "markdown",
   "id": "37298ed3",
   "metadata": {},
   "source": [
    "# #学号：2110010114"
   ]
  },
  {
   "cell_type": "markdown",
   "id": "9ff01f65",
   "metadata": {},
   "source": [
    "# ##练习"
   ]
  },
  {
   "cell_type": "code",
   "execution_count": 41,
   "id": "489a957b",
   "metadata": {},
   "outputs": [
    {
     "name": "stdout",
     "output_type": "stream",
     "text": [
      "Full Mode:我/ 来到/ 北京/ 清华/ 清华大学/ 华大/ 大学\n",
      "Full Mode:乒乓/ 乒乓球/ 乒乓球拍/ 球拍/ 拍卖/ 卖完/ 了\n",
      "Full Mode:中国/ 科学/ 科学技术/ 技术/ 大学\n"
     ]
    }
   ],
   "source": [
    "import jieba\n",
    "#全模式\n",
    "seg_list1 = jieba.cut(\"我来到北京清华大学\",cut_all=True)\n",
    "print(\"Full Mode:\" +\"/ \".join(seg_list1))\n",
    "seg_list2 = jieba.cut(\"乒乓球拍卖完了\",cut_all=True)\n",
    "print(\"Full Mode:\" +\"/ \".join(seg_list2))\n",
    "seg_list3 = jieba.cut(\"中国科学技术大学\",cut_all=True)\n",
    "print(\"Full Mode:\" +\"/ \".join(seg_list3))"
   ]
  },
  {
   "cell_type": "code",
   "execution_count": 22,
   "id": "baec8488",
   "metadata": {},
   "outputs": [
    {
     "name": "stdout",
     "output_type": "stream",
     "text": [
      "Full Mode:我/ 来到/ 北京/ 清华大学\n",
      "Full Mode:乒乓球/ 拍卖/ 完/ 了\n",
      "Full Mode:中国/ 科学技术/ 大学\n"
     ]
    }
   ],
   "source": [
    "import jieba\n",
    "#精准模式\n",
    "seg_list4 = jieba.cut(\"我来到北京清华大学\",cut_all=False)\n",
    "print(\"Full Mode:\" +\"/ \".join(seg_list4))\n",
    "seg_list5 = jieba.cut(\"乒乓球拍卖完了\",cut_all=False)\n",
    "print(\"Full Mode:\" +\"/ \".join(seg_list5))\n",
    "seg_list6 = jieba.cut(\"中国科学技术大学\",cut_all=False)\n",
    "print(\"Full Mode:\" +\"/ \".join(seg_list6))"
   ]
  },
  {
   "cell_type": "code",
   "execution_count": 42,
   "id": "e022ff19",
   "metadata": {},
   "outputs": [
    {
     "name": "stdout",
     "output_type": "stream",
     "text": [
      "我,来到,北京,清华,华大,大学,清华大学\n",
      "乒乓,乒乓球,拍卖,完,了\n",
      "中国,科学,技术,科学技术,大学\n"
     ]
    }
   ],
   "source": [
    "import jieba\n",
    "#搜索引擎模式\n",
    "seg_list7 = jieba.cut_for_search(\"我来到北京清华大学\")\n",
    "print(\",\".join(seg_list7))\n",
    "seg_list8 = jieba.cut_for_search(\"乒乓球拍卖完了\")\n",
    "print(\",\".join(seg_list8))\n",
    "seg_list9 = jieba.cut_for_search(\"中国科学技术大学\")\n",
    "print(\",\".join(seg_list9))"
   ]
  },
  {
   "cell_type": "code",
   "execution_count": 21,
   "id": "30d1167f",
   "metadata": {},
   "outputs": [
    {
     "name": "stdout",
     "output_type": "stream",
     "text": [
      "Full Mode:我/ 来到/ 北京/ 清华大学\n",
      "Full Mode:乒乓球/ 拍卖/ 完/ 了\n",
      "Full Mode:中国/ 科学技术/ 大学\n"
     ]
    }
   ],
   "source": [
    "import jieba\n",
    "#paddle模式\n",
    "seg_list10 = jieba.lcut(\"我来到北京清华大学\",use_paddle=True)\n",
    "print(\"Full Mode:\" +\"/ \".join(seg_list10))\n",
    "seg_list11 = jieba.lcut(\"乒乓球拍卖完了\",use_paddle=True)\n",
    "print(\"Full Mode:\" +\"/ \".join(seg_list11))\n",
    "seg_list12 = jieba.lcut(\"中国科学技术大学\",use_paddle=True)\n",
    "print(\"Full Mode:\" +\"/ \".join(seg_list12))"
   ]
  },
  {
   "cell_type": "markdown",
   "id": "d9f9f770",
   "metadata": {},
   "source": [
    "# ##作业一"
   ]
  },
  {
   "cell_type": "code",
   "execution_count": 20,
   "id": "3ccbbcf8",
   "metadata": {},
   "outputs": [
    {
     "data": {
      "text/plain": [
       "16620"
      ]
     },
     "execution_count": 20,
     "metadata": {},
     "output_type": "execute_result"
    }
   ],
   "source": [
    "#对《我的叔叔于勒》进行分词训练，pandoc,将结果输出到word;\n",
    "import jieba\n",
    "txt = open(\"D:\\大三上\\文本挖掘\\作业2\\我的叔叔于勒.txt\",encoding='UTF-8').read()\n",
    "words = jieba.lcut(txt)\n",
    "result = open('D:\\大三上\\文本挖掘\\作业2\\我的叔叔于勒分词结果.txt','w',encoding='UTF-8')\n",
    "result.write(' | '.join(words))"
   ]
  },
  {
   "cell_type": "markdown",
   "id": "997c672c",
   "metadata": {},
   "source": [
    "# ##作业二"
   ]
  },
  {
   "cell_type": "code",
   "execution_count": 28,
   "id": "80afbc65",
   "metadata": {},
   "outputs": [
    {
     "data": {
      "text/plain": [
       "3210"
      ]
     },
     "execution_count": 28,
     "metadata": {},
     "output_type": "execute_result"
    }
   ],
   "source": [
    "#对以下新闻进行分词，必要地添加新词词库\n",
    "import jieba\n",
    "txt = open(\"D:\\大三上\\文本挖掘\\作业2\\新闻.txt\",encoding='UTF-8').read()\n",
    "words = jieba.lcut(txt)\n",
    "result = open('D:\\大三上\\文本挖掘\\作业2\\新闻分词结果.txt','w',encoding='UTF-8')\n",
    "result.write(' | '.join(words))"
   ]
  },
  {
   "cell_type": "code",
   "execution_count": 40,
   "id": "08a9b394",
   "metadata": {
    "scrolled": true
   },
   "outputs": [
    {
     "name": "stdout",
     "output_type": "stream",
     "text": [
      "欢迎|来到|星星|的|新闻|脱口秀|直播间|，|介是|一档|你|从没|体验|过|的|船新|的|节目|，|只|需|看|上|三分钟|你|就|会|爱|上|他|。|今天|是|第一期|，|我们|当然|要|先|聊一聊|全中国|男人|当然|后|也|包括|女人|最|关心|的|问题|，|房事|问题|，|她|好不好|完全|看|他|在|房事|上|能不能|让|她|满意|了|。|没有|一个|男人|在|这件|事情|上|不|努力|的|，|最近|最|努力|的|男人|要数|许家印|了|，|昨天|开始|恒大|又|又|又|开始|打折|了|，|全国|范围|内|房子|打|七折|。|打折|促销|这|几年|已经|是|恒大|鲜明|的|标签|了|，|特别|是|金九银十|的|时候|，|你|总能|看到|恒大|高举|打折|的|旗号|冲|了|过来|。\n"
     ]
    }
   ],
   "source": [
    "import jieba\n",
    "#添加自定义词汇\n",
    "jieba.load_userdict(\"D:\\大三上\\文本挖掘\\作业2\\dict.txt\") \n",
    "words = jieba.cut('欢迎来到星星的新闻脱口秀直播间，介是一档你从没体验过的船新的节目，只需看上三分钟你就会爱上他。今天是第一期，我们当然要先聊一聊全中国男人当然后也包括女人最关心的问题，房事问题，她好不好完全看他在房事上能不能让她满意了。没有一个男人在这件事情上不努力的，最近最努力的男人要数许家印了，昨天开始恒大又又又开始打折了，全国范围内房子打七折。打折促销这几年已经是恒大鲜明的标签了，特别是金九银十的时候，你总能看到恒大高举打折的旗号冲了过来。')\n",
    "print(\"|\".join(words))"
   ]
  }
 ],
 "metadata": {
  "kernelspec": {
   "display_name": "Python 3 (ipykernel)",
   "language": "python",
   "name": "python3"
  },
  "language_info": {
   "codemirror_mode": {
    "name": "ipython",
    "version": 3
   },
   "file_extension": ".py",
   "mimetype": "text/x-python",
   "name": "python",
   "nbconvert_exporter": "python",
   "pygments_lexer": "ipython3",
   "version": "3.11.4"
  }
 },
 "nbformat": 4,
 "nbformat_minor": 5
}
